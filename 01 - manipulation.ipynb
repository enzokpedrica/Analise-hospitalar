{
 "cells": [
  {
   "cell_type": "code",
   "execution_count": 1,
   "id": "48daf816",
   "metadata": {},
   "outputs": [],
   "source": [
    "import pandas as pd\n",
    "import os\n",
    "import datetime\n",
    "from datetime import datetime\n",
    "\n",
    "pasta = r\"C:\\git\\analise-hospitalar\\Bronze\"\n",
    "\n",
    "# Dicionário com nomes personalizados para os arquivos\n",
    "arquivos = {\n",
    "    'pacientes': 'patients.csv',\n",
    "    'medicos': 'doctors.csv',\n",
    "    'consultas': 'appointments.csv',\n",
    "    'tratamentos': 'treatments.csv',\n",
    "    'faturamento': 'billing.csv'\n",
    "}"
   ]
  },
  {
   "cell_type": "code",
   "execution_count": 2,
   "id": "6be5bfef",
   "metadata": {},
   "outputs": [],
   "source": [
    "# Leitura dos arquivos CSV\n",
    "for nome, nome_arquivo in arquivos.items():\n",
    "    caminho_arquivo = os.path.join(pasta, nome_arquivo)\n",
    "    globals()[nome] = pd.read_csv(caminho_arquivo)"
   ]
  },
  {
   "cell_type": "code",
   "execution_count": 3,
   "id": "916675e8",
   "metadata": {},
   "outputs": [
    {
     "data": {
      "text/html": [
       "<div>\n",
       "<style scoped>\n",
       "    .dataframe tbody tr th:only-of-type {\n",
       "        vertical-align: middle;\n",
       "    }\n",
       "\n",
       "    .dataframe tbody tr th {\n",
       "        vertical-align: top;\n",
       "    }\n",
       "\n",
       "    .dataframe thead th {\n",
       "        text-align: right;\n",
       "    }\n",
       "</style>\n",
       "<table border=\"1\" class=\"dataframe\">\n",
       "  <thead>\n",
       "    <tr style=\"text-align: right;\">\n",
       "      <th></th>\n",
       "      <th>patient_id</th>\n",
       "      <th>first_name</th>\n",
       "      <th>last_name</th>\n",
       "      <th>gender</th>\n",
       "      <th>date_of_birth</th>\n",
       "      <th>contact_number</th>\n",
       "      <th>registration_date</th>\n",
       "      <th>insurance_provider</th>\n",
       "      <th>insurance_number</th>\n",
       "      <th>email</th>\n",
       "      <th>number_adress</th>\n",
       "      <th>type_adress</th>\n",
       "      <th>street</th>\n",
       "      <th>age</th>\n",
       "    </tr>\n",
       "  </thead>\n",
       "  <tbody>\n",
       "    <tr>\n",
       "      <th>0</th>\n",
       "      <td>P001</td>\n",
       "      <td>David</td>\n",
       "      <td>Williams</td>\n",
       "      <td>F</td>\n",
       "      <td>1955-06-04</td>\n",
       "      <td>6939585183</td>\n",
       "      <td>2022-06-23</td>\n",
       "      <td>WellnessCorp</td>\n",
       "      <td>INS840674</td>\n",
       "      <td>david.williams@mail.com</td>\n",
       "      <td>789</td>\n",
       "      <td>Rd</td>\n",
       "      <td>Pine</td>\n",
       "      <td>70</td>\n",
       "    </tr>\n",
       "    <tr>\n",
       "      <th>1</th>\n",
       "      <td>P002</td>\n",
       "      <td>Emily</td>\n",
       "      <td>Smith</td>\n",
       "      <td>F</td>\n",
       "      <td>1984-10-12</td>\n",
       "      <td>8228188767</td>\n",
       "      <td>2022-01-15</td>\n",
       "      <td>PulseSecure</td>\n",
       "      <td>INS354079</td>\n",
       "      <td>emily.smith@mail.com</td>\n",
       "      <td>321</td>\n",
       "      <td>Dr</td>\n",
       "      <td>Maple</td>\n",
       "      <td>41</td>\n",
       "    </tr>\n",
       "    <tr>\n",
       "      <th>2</th>\n",
       "      <td>P003</td>\n",
       "      <td>Laura</td>\n",
       "      <td>Jones</td>\n",
       "      <td>M</td>\n",
       "      <td>1977-08-21</td>\n",
       "      <td>8397029847</td>\n",
       "      <td>2022-02-07</td>\n",
       "      <td>PulseSecure</td>\n",
       "      <td>INS650929</td>\n",
       "      <td>laura.jones@mail.com</td>\n",
       "      <td>321</td>\n",
       "      <td>Dr</td>\n",
       "      <td>Maple</td>\n",
       "      <td>48</td>\n",
       "    </tr>\n",
       "  </tbody>\n",
       "</table>\n",
       "</div>"
      ],
      "text/plain": [
       "  patient_id first_name last_name gender date_of_birth  contact_number  \\\n",
       "0       P001      David  Williams      F    1955-06-04      6939585183   \n",
       "1       P002      Emily     Smith      F    1984-10-12      8228188767   \n",
       "2       P003      Laura     Jones      M    1977-08-21      8397029847   \n",
       "\n",
       "  registration_date insurance_provider insurance_number  \\\n",
       "0        2022-06-23       WellnessCorp        INS840674   \n",
       "1        2022-01-15        PulseSecure        INS354079   \n",
       "2        2022-02-07        PulseSecure        INS650929   \n",
       "\n",
       "                     email number_adress type_adress   street  age  \n",
       "0  david.williams@mail.com           789          Rd    Pine    70  \n",
       "1     emily.smith@mail.com           321          Dr   Maple    41  \n",
       "2     laura.jones@mail.com           321          Dr   Maple    48  "
      ]
     },
     "execution_count": 3,
     "metadata": {},
     "output_type": "execute_result"
    }
   ],
   "source": [
    "# Transformando colunas de data para o tipo datetime\n",
    "pacientes[\"date_of_birth\"] = pd.to_datetime(pacientes[\"date_of_birth\"]) # type: ignore\n",
    "\n",
    "pacientes[\"registration_date\"] = pd.to_datetime(pacientes[\"registration_date\"]) # type: ignore\n",
    "\n",
    "# Extraindo endereço dos pacientes\n",
    "pacientes[\"number_adress\"] = pacientes[\"address\"].str.extract(r'(\\d{3})') # type: ignore\n",
    "pacientes[\"type_adress\"] = pacientes[\"address\"].str[-2:] # type: ignore\n",
    "pacientes[\"address\"] = pacientes[\"address\"].str.replace(r'^\\d{3}', '', regex=True) # type: ignore\n",
    "pacientes[\"street\"] = pacientes[\"address\"].str.replace(r'[A-Za-z]{2}$', '', regex=True) # type: ignore\n",
    "pacientes.drop(columns=[\"address\"], inplace=True) # type: ignore\n",
    "\n",
    "# Calculando a idade dos pacientes\n",
    "pacientes[\"age\"] = (datetime.now().year - pacientes[\"date_of_birth\"].dt.year) # type: ignore\n",
    "\n",
    "pacientes.head(3) # type: ignore\n"
   ]
  },
  {
   "cell_type": "code",
   "execution_count": 4,
   "id": "19e9420a",
   "metadata": {},
   "outputs": [],
   "source": [
    "consultas[\"appointment_date\"] = pd.to_datetime(consultas[\"appointment_date\"]) # type: ignore\n",
    "consultas[\"appointment_time\"] = pd.to_datetime(consultas[\"appointment_time\"], format='%H:%M:%S').dt.time"
   ]
  },
  {
   "cell_type": "code",
   "execution_count": 5,
   "id": "0c5af24a",
   "metadata": {},
   "outputs": [],
   "source": [
    "faturamento[\"bill_date\"] = pd.to_datetime(faturamento[\"bill_date\"]) # type: ignore"
   ]
  },
  {
   "cell_type": "code",
   "execution_count": 6,
   "id": "83f5c7da",
   "metadata": {},
   "outputs": [
    {
     "name": "stdout",
     "output_type": "stream",
     "text": [
      "Arquivos salvos com sucesso !!!\n"
     ]
    }
   ],
   "source": [
    "try:\n",
    "    os.makedirs('C:\\\\git\\\\analise-hospitalar\\\\Silver', exist_ok=True)\n",
    "    pacientes.to_csv('C:\\\\git\\\\analise-hospitalar\\\\Silver\\\\patients_silver.csv')\n",
    "\n",
    "    os.makedirs('C:\\\\git\\\\analise-hospitalar\\\\Silver', exist_ok=True)\n",
    "    medicos.to_csv('C:\\\\git\\\\analise-hospitalar\\\\Silver\\\\doctors_silver.csv')\n",
    "\n",
    "    os.makedirs('C:\\\\git\\\\analise-hospitalar\\\\Silver', exist_ok=True)\n",
    "    consultas.to_csv('C:\\\\git\\\\analise-hospitalar\\\\Silver\\\\appointments_silver.csv')\n",
    "\n",
    "    os.makedirs('C:\\\\git\\\\analise-hospitalar\\\\Silver', exist_ok=True)\n",
    "    tratamentos.to_csv('C:\\\\git\\\\analise-hospitalar\\\\Silver\\\\treatments_silver.csv')\n",
    "\n",
    "    os.makedirs('C:\\\\git\\\\analise-hospitalar\\\\Silver', exist_ok=True)\n",
    "    faturamento.to_csv('C:\\\\git\\\\analise-hospitalar\\\\Silver\\\\billing_silver.csv')\n",
    "\n",
    "    print(\"Arquivos salvos com sucesso !!!\")\n",
    "except:\n",
    "    print(\"Erro ao salvar\")"
   ]
  }
 ],
 "metadata": {
  "kernelspec": {
   "display_name": "Python 3",
   "language": "python",
   "name": "python3"
  },
  "language_info": {
   "codemirror_mode": {
    "name": "ipython",
    "version": 3
   },
   "file_extension": ".py",
   "mimetype": "text/x-python",
   "name": "python",
   "nbconvert_exporter": "python",
   "pygments_lexer": "ipython3",
   "version": "3.13.5"
  }
 },
 "nbformat": 4,
 "nbformat_minor": 5
}
